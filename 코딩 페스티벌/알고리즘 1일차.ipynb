{
 "cells": [
  {
   "cell_type": "markdown",
   "id": "71e57c09",
   "metadata": {},
   "source": [
    "# ex01 (그리디 알고리즘)"
   ]
  },
  {
   "cell_type": "code",
   "execution_count": 1,
   "id": "9ba706cd",
   "metadata": {},
   "outputs": [
    {
     "name": "stdout",
     "output_type": "stream",
     "text": [
      "5000\n",
      "5\n"
     ]
    }
   ],
   "source": [
    "N = int(input())\n",
    "n = 10000 - N \n",
    "count = 0\n",
    "\n",
    "coin_types = [10000,1000,100,10,1] \n",
    "\n",
    "for coin in coin_types:\n",
    "    count += n // coin\n",
    "    n %= coin\n",
    "    \n",
    "print(count)"
   ]
  },
  {
   "cell_type": "code",
   "execution_count": null,
   "id": "0a3a66bc",
   "metadata": {},
   "outputs": [],
   "source": []
  },
  {
   "cell_type": "markdown",
   "id": "f3fee673",
   "metadata": {},
   "source": [
    "# ex02 (사전 순열)"
   ]
  },
  {
   "cell_type": "code",
   "execution_count": 1,
   "id": "fe14ec79",
   "metadata": {},
   "outputs": [
    {
     "name": "stdout",
     "output_type": "stream",
     "text": [
      "5\n",
      "1 3 2 4 5\n",
      "1 3 2 5 4 1 3 4 2 5 1 5 2 3 4 1 3 2 5 4 4 1 2 3 5 -1\n"
     ]
    }
   ],
   "source": [
    "N = int(input())\n",
    "god = list(map(int, input().split()))\n",
    "\n",
    "for i in range(N-1, 0, -1):\n",
    "    if god[i-1] < god[i]:\n",
    "        for j in range(N-1, 0, -1):\n",
    "            if god[i-1] < god[j]:\n",
    "                god[i-1], god[j] = god[j], god[i-1]\n",
    "                god = god[:i] + sorted(god[i:])\n",
    "                for i in god:\n",
    "                    print(i, end=' ')\n",
    "                exit()\n",
    "print(-1)"
   ]
  },
  {
   "cell_type": "code",
   "execution_count": null,
   "id": "e4e0265e",
   "metadata": {},
   "outputs": [],
   "source": []
  },
  {
   "cell_type": "markdown",
   "id": "9bd22834",
   "metadata": {},
   "source": [
    "# ex03 (아스키 코드)"
   ]
  },
  {
   "cell_type": "code",
   "execution_count": 1,
   "id": "f150dee8",
   "metadata": {},
   "outputs": [
    {
     "name": "stdout",
     "output_type": "stream",
     "text": [
      "0 0 0 0 0 0 0 0 0 0 0 0 0 0 0 0 0 0 0 0 0 0 0 0 0 0\n"
     ]
    }
   ],
   "source": [
    "import sys\n",
    "\n",
    "N =[0] * 26\n",
    "\n",
    "str = sys.stdin.readline().rstrip()\n",
    "\n",
    "for i in str:\n",
    "  N[ord(i) - 97] += 1\n",
    "\n",
    "print(*N)"
   ]
  },
  {
   "cell_type": "code",
   "execution_count": null,
   "id": "6a5e09b3",
   "metadata": {},
   "outputs": [],
   "source": []
  },
  {
   "cell_type": "markdown",
   "id": "58d4a866",
   "metadata": {},
   "source": [
    "# ex04 (DP 동적 계획법)"
   ]
  },
  {
   "cell_type": "markdown",
   "id": "0b093816",
   "metadata": {},
   "source": [
    "### 특정 N값 입력 , 특정 N값이 무엇으로 이루어져 있는지 나눌수 있는가..??\n",
    "#### 그 값(K)을 구할 수 있다면 N보다 큰 값 중에서 K와 입력한 값이 일치하는 것중 min값 구하기? "
   ]
  },
  {
   "cell_type": "code",
   "execution_count": null,
   "id": "baeb3ba0",
   "metadata": {},
   "outputs": [],
   "source": [
    "# arr = list(map(int, input().split()))\n",
    "# N = arr[0]\n",
    "# K = arr[1]\n",
    "# k = 0\n",
    "# result = list(str(N))\n",
    "# print(result)\n",
    "# for i in range(10):\n",
    "#     res = result.count(str(i))\n",
    "#     if int(res) >= 1:\n",
    "#         k +=1\n",
    "\n",
    "# print(k)\n",
    "# if K == k:\n",
    "    \n",
    "\n",
    "# # def Min(N, K):\n"
   ]
  },
  {
   "cell_type": "code",
   "execution_count": null,
   "id": "12ad086d",
   "metadata": {},
   "outputs": [],
   "source": []
  },
  {
   "cell_type": "code",
   "execution_count": null,
   "id": "15b43d7a",
   "metadata": {},
   "outputs": [],
   "source": []
  },
  {
   "cell_type": "code",
   "execution_count": null,
   "id": "52321cf7",
   "metadata": {},
   "outputs": [],
   "source": []
  },
  {
   "cell_type": "markdown",
   "id": "f72e9c68",
   "metadata": {},
   "source": [
    "# ex05 (에라토스테네스의 체 + BFS)"
   ]
  },
  {
   "cell_type": "code",
   "execution_count": 1,
   "id": "e5a6a56b",
   "metadata": {},
   "outputs": [
    {
     "ename": "ValueError",
     "evalue": "not enough values to unpack (expected 2, got 0)",
     "output_type": "error",
     "traceback": [
      "\u001b[1;31m---------------------------------------------------------------------------\u001b[0m",
      "\u001b[1;31mValueError\u001b[0m                                Traceback (most recent call last)",
      "Input \u001b[1;32mIn [1]\u001b[0m, in \u001b[0;36m<cell line: 18>\u001b[1;34m()\u001b[0m\n\u001b[0;32m     16\u001b[0m getPrime(arr)\n\u001b[0;32m     18\u001b[0m \u001b[38;5;28;01mfor\u001b[39;00m _ \u001b[38;5;129;01min\u001b[39;00m \u001b[38;5;28mrange\u001b[39m(N):\n\u001b[1;32m---> 19\u001b[0m     num1, num2 \u001b[38;5;241m=\u001b[39m sys\u001b[38;5;241m.\u001b[39mstdin\u001b[38;5;241m.\u001b[39mreadline()\u001b[38;5;241m.\u001b[39mstrip()\u001b[38;5;241m.\u001b[39msplit()\n\u001b[0;32m     21\u001b[0m     vi \u001b[38;5;241m=\u001b[39m [\u001b[38;5;28;01mFalse\u001b[39;00m \u001b[38;5;28;01mfor\u001b[39;00m _ \u001b[38;5;129;01min\u001b[39;00m \u001b[38;5;28mrange\u001b[39m(\u001b[38;5;241m10000\u001b[39m)]\n\u001b[0;32m     23\u001b[0m     que \u001b[38;5;241m=\u001b[39m []\n",
      "\u001b[1;31mValueError\u001b[0m: not enough values to unpack (expected 2, got 0)"
     ]
    }
   ],
   "source": [
    "import sys, heapq\n",
    "\n",
    "def getPrime(arr):  # 9999까지 미리 소수여부를 저장\n",
    "\n",
    "    for i in range(2,10000):\n",
    "        if arr[i]:  #소수이면, r의 배수는 모두 소수가 아님\n",
    "            for j in range(i*2, 10000, i):\n",
    "                arr[j] = False\n",
    "\n",
    "    for i in range(1000):   # 1000보다 작으면 안됨.\n",
    "        arr[i] = False\n",
    "\n",
    "N = 1\n",
    "\n",
    "arr = [True for _ in range(10000)] # 0~999까지 소수 여부를 저장하는 배열\n",
    "getPrime(arr)\n",
    "\n",
    "for _ in range(N):\n",
    "    num1, num2 = sys.stdin.readline().strip().split()\n",
    "    \n",
    "    vi = [False for _ in range(10000)]\n",
    "\n",
    "    que = []\n",
    "    heapq.heappush(que, (0, num1))\n",
    "\n",
    "    res = 'Impossible'\n",
    "    while que:\n",
    "        cnt, num = heapq.heappop(que)\n",
    "        if ''.join(num) == num2:\n",
    "            res = cnt\n",
    "            break;\n",
    "\n",
    "        for i in range(4):\n",
    "            for j in range(10):\n",
    "                chgNum = list(num)\n",
    "                chgNum[i] = str(j)\n",
    "                intNum = int(''.join(chgNum))\n",
    "                if arr[intNum] and not vi[intNum]: # 소수이고 방문하지 않은 경우,\n",
    "                    heapq.heappush(que, (cnt+1, chgNum))\n",
    "                    vi[intNum] = True\n",
    "    print(res)"
   ]
  },
  {
   "cell_type": "code",
   "execution_count": null,
   "id": "3eba1164",
   "metadata": {},
   "outputs": [],
   "source": []
  },
  {
   "cell_type": "markdown",
   "id": "b553d3bf",
   "metadata": {},
   "source": [
    "# ex06 (배열 정렬)"
   ]
  },
  {
   "cell_type": "code",
   "execution_count": 46,
   "id": "66a163b2",
   "metadata": {},
   "outputs": [
    {
     "name": "stdout",
     "output_type": "stream",
     "text": [
      "3 5 1 2 9 6 4 5 7\n"
     ]
    },
    {
     "ename": "TypeError",
     "evalue": "'list' object is not callable",
     "output_type": "error",
     "traceback": [
      "\u001b[1;31m---------------------------------------------------------------------------\u001b[0m",
      "\u001b[1;31mTypeError\u001b[0m                                 Traceback (most recent call last)",
      "Input \u001b[1;32mIn [46]\u001b[0m, in \u001b[0;36m<cell line: 23>\u001b[1;34m()\u001b[0m\n\u001b[0;32m     19\u001b[0m arr \u001b[38;5;241m=\u001b[39m \u001b[38;5;28mlist\u001b[39m(\u001b[38;5;28mmap\u001b[39m(\u001b[38;5;28mint\u001b[39m, \u001b[38;5;28minput\u001b[39m()\u001b[38;5;241m.\u001b[39msplit()))\n\u001b[0;32m     21\u001b[0m arr \u001b[38;5;241m=\u001b[39m \u001b[38;5;28mmap\u001b[39m(\u001b[38;5;28mstr\u001b[39m,quick(arr))\n\u001b[1;32m---> 23\u001b[0m \u001b[38;5;28mprint\u001b[39m(\u001b[38;5;124;43m'\u001b[39;49m\u001b[38;5;124;43m \u001b[39;49m\u001b[38;5;124;43m'\u001b[39;49m\u001b[38;5;241;43m.\u001b[39;49m\u001b[43mjoin\u001b[49m\u001b[43m(\u001b[49m\u001b[43marr\u001b[49m\u001b[43m)\u001b[49m)\n",
      "\u001b[1;31mTypeError\u001b[0m: 'list' object is not callable"
     ]
    }
   ],
   "source": [
    "def quick(arr):\n",
    "    \n",
    "    if len(arr) <= 1:\n",
    "        return arr\n",
    "\n",
    "    pivot = arr[0]\n",
    "    \n",
    "    left = []\n",
    "    right = []\n",
    "    \n",
    "    for i in range(1,len(arr)):\n",
    "        if arr[i] <= pivot:\n",
    "            left.append(arr[i])\n",
    "        else:\n",
    "            right.append(arr[i])\n",
    "    \n",
    "    return quick(left) + [pivot] + quick(right)\n",
    "\n",
    "arr = list(map(int, input().split()))\n",
    "\n",
    "arr = map(str,quick(arr))\n",
    "\n",
    "print(' '.join(arr))"
   ]
  },
  {
   "cell_type": "code",
   "execution_count": null,
   "id": "ff83a741",
   "metadata": {},
   "outputs": [],
   "source": []
  },
  {
   "cell_type": "code",
   "execution_count": null,
   "id": "ec334516",
   "metadata": {},
   "outputs": [],
   "source": [
    "# N = list(map(int, input().split()))\n",
    "\n",
    "# for j in range(len(N)):\n",
    "#     k = len(N) - j\n",
    "#     for i in range(1, k):\n",
    "#         if N[i-1] >= N[i]:\n",
    "#             temp = N[i-1]\n",
    "#             N[i-1] = N[i]\n",
    "#             N[i] = temp\n",
    "\n",
    "# print(N)"
   ]
  },
  {
   "cell_type": "code",
   "execution_count": null,
   "id": "e788d717",
   "metadata": {},
   "outputs": [],
   "source": []
  },
  {
   "cell_type": "markdown",
   "id": "27a24501",
   "metadata": {},
   "source": [
    "# ex07 (문자열 제거)"
   ]
  },
  {
   "cell_type": "code",
   "execution_count": null,
   "id": "e3373044",
   "metadata": {},
   "outputs": [],
   "source": [
    "def clean(text, clear):\n",
    "    \n",
    "    result = text.replace(clear,'')\n",
    "\n",
    "    if text == result:\n",
    "        return result\n",
    "    return clean(result, clear)\n",
    "    \n",
    "text = input()\n",
    "clear = input()\n",
    "\n",
    "print(clean(text,clear))   "
   ]
  },
  {
   "cell_type": "code",
   "execution_count": null,
   "id": "4a3532ca",
   "metadata": {},
   "outputs": [],
   "source": []
  },
  {
   "cell_type": "markdown",
   "id": "0bc52801",
   "metadata": {},
   "source": [
    "# ex08 (완전탐색)"
   ]
  },
  {
   "cell_type": "code",
   "execution_count": 45,
   "id": "a9874be2",
   "metadata": {},
   "outputs": [
    {
     "name": "stdout",
     "output_type": "stream",
     "text": [
      "4\n",
      "6\n"
     ]
    },
    {
     "ename": "TypeError",
     "evalue": "'list' object is not callable",
     "output_type": "error",
     "traceback": [
      "\u001b[1;31m---------------------------------------------------------------------------\u001b[0m",
      "\u001b[1;31mTypeError\u001b[0m                                 Traceback (most recent call last)",
      "Input \u001b[1;32mIn [45]\u001b[0m, in \u001b[0;36m<cell line: 15>\u001b[1;34m()\u001b[0m\n\u001b[0;32m     15\u001b[0m \u001b[38;5;28;01mfor\u001b[39;00m i \u001b[38;5;129;01min\u001b[39;00m \u001b[38;5;28mrange\u001b[39m(\u001b[38;5;241m1\u001b[39m,\u001b[38;5;241m10\u001b[39m):\n\u001b[0;32m     16\u001b[0m     tmp \u001b[38;5;241m=\u001b[39m i\n\u001b[1;32m---> 17\u001b[0m     Str \u001b[38;5;241m=\u001b[39m \u001b[38;5;28;43mstr\u001b[39;49m\u001b[43m(\u001b[49m\u001b[43mtmp\u001b[49m\u001b[43m)\u001b[49m\n\u001b[0;32m     18\u001b[0m     ham(Str, tmp,\u001b[38;5;241m0\u001b[39m, N)\n",
      "\u001b[1;31mTypeError\u001b[0m: 'list' object is not callable"
     ]
    }
   ],
   "source": [
    "Dig = int(input())\n",
    "diff = int(input())\n",
    "\n",
    "arr = []\n",
    "\n",
    "def game(Str, num, cnt, Dig):\n",
    "    if cnt == Dig-1:\n",
    "        print(Str,end=' ')\n",
    "        return\n",
    "    if num - diff >= 0:\n",
    "        game(Str+str(num - diff), num - diff,cnt+1, Dig)\n",
    "    if diff!=0 and num + diff < 10:\n",
    "        game(Str+str(num + diff), num + diff,cnt+1, Dig)\n",
    "\n",
    "for i in range(1,10):\n",
    "    tmp = i\n",
    "    Str = str(tmp)\n",
    "    game(Str, tmp,0, Dig)"
   ]
  },
  {
   "cell_type": "code",
   "execution_count": 42,
   "id": "c5cb5a46",
   "metadata": {},
   "outputs": [
    {
     "name": "stdout",
     "output_type": "stream",
     "text": [
      "4\n",
      "6\n"
     ]
    },
    {
     "ename": "TypeError",
     "evalue": "'list' object is not callable",
     "output_type": "error",
     "traceback": [
      "\u001b[1;31m---------------------------------------------------------------------------\u001b[0m",
      "\u001b[1;31mTypeError\u001b[0m                                 Traceback (most recent call last)",
      "Input \u001b[1;32mIn [42]\u001b[0m, in \u001b[0;36m<cell line: 8>\u001b[1;34m()\u001b[0m\n\u001b[0;32m      4\u001b[0m N \u001b[38;5;241m=\u001b[39m \u001b[38;5;28mint\u001b[39m(\u001b[38;5;28minput\u001b[39m())\n\u001b[0;32m      5\u001b[0m M \u001b[38;5;241m=\u001b[39m \u001b[38;5;28mint\u001b[39m(\u001b[38;5;28minput\u001b[39m())\n\u001b[1;32m----> 8\u001b[0m R \u001b[38;5;241m=\u001b[39m [\u001b[38;5;28mstr\u001b[39m(c) \u001b[38;5;28;01mfor\u001b[39;00m c \u001b[38;5;129;01min\u001b[39;00m \u001b[38;5;28mrange\u001b[39m(\u001b[38;5;241m10\u001b[39m)]\n\u001b[0;32m      9\u001b[0m perR \u001b[38;5;241m=\u001b[39m \u001b[38;5;28mlist\u001b[39m(\u001b[38;5;28mmap\u001b[39m(\u001b[38;5;124m'\u001b[39m\u001b[38;5;124m'\u001b[39m\u001b[38;5;241m.\u001b[39mjoin, product(R, repeat \u001b[38;5;241m=\u001b[39m N)))\n\u001b[0;32m     10\u001b[0m \u001b[38;5;66;03m# perR = list(map(''.join, permutations(R, N)))\u001b[39;00m\n\u001b[0;32m     11\u001b[0m \u001b[38;5;66;03m# print(perR)\u001b[39;00m\n",
      "Input \u001b[1;32mIn [42]\u001b[0m, in \u001b[0;36m<listcomp>\u001b[1;34m(.0)\u001b[0m\n\u001b[0;32m      4\u001b[0m N \u001b[38;5;241m=\u001b[39m \u001b[38;5;28mint\u001b[39m(\u001b[38;5;28minput\u001b[39m())\n\u001b[0;32m      5\u001b[0m M \u001b[38;5;241m=\u001b[39m \u001b[38;5;28mint\u001b[39m(\u001b[38;5;28minput\u001b[39m())\n\u001b[1;32m----> 8\u001b[0m R \u001b[38;5;241m=\u001b[39m [\u001b[38;5;28;43mstr\u001b[39;49m\u001b[43m(\u001b[49m\u001b[43mc\u001b[49m\u001b[43m)\u001b[49m \u001b[38;5;28;01mfor\u001b[39;00m c \u001b[38;5;129;01min\u001b[39;00m \u001b[38;5;28mrange\u001b[39m(\u001b[38;5;241m10\u001b[39m)]\n\u001b[0;32m      9\u001b[0m perR \u001b[38;5;241m=\u001b[39m \u001b[38;5;28mlist\u001b[39m(\u001b[38;5;28mmap\u001b[39m(\u001b[38;5;124m'\u001b[39m\u001b[38;5;124m'\u001b[39m\u001b[38;5;241m.\u001b[39mjoin, product(R, repeat \u001b[38;5;241m=\u001b[39m N)))\n\u001b[0;32m     10\u001b[0m \u001b[38;5;66;03m# perR = list(map(''.join, permutations(R, N)))\u001b[39;00m\n\u001b[0;32m     11\u001b[0m \u001b[38;5;66;03m# print(perR)\u001b[39;00m\n",
      "\u001b[1;31mTypeError\u001b[0m: 'list' object is not callable"
     ]
    }
   ],
   "source": [
    "# from itertools import permutations\n",
    "# from itertools import product\n",
    "\n",
    "# N = int(input())\n",
    "# M = int(input())\n",
    "\n",
    "\n",
    "# R = [str(c) for c in range(10)]\n",
    "# perR = list(map(''.join, product(R, repeat = N)))\n",
    "# # perR = list(map(''.join, permutations(R, N)))\n",
    "# # print(perR)\n",
    "\n",
    "# start_pt = 0\n",
    "# while start_pt != len(perR):\n",
    "#     if len(str(int(perR[start_pt]))) != N:\n",
    "#         perR.remove(perR[start_pt])\n",
    "#         start_pt -= 1\n",
    "#     else:\n",
    "#         for j in range(len(perR[start_pt])-1): \n",
    "#             if abs(int(perR[start_pt][j]) - int(perR[start_pt][j+1])) != M:\n",
    "#                 perR.remove(perR[start_pt])\n",
    "#                 start_pt -= 1\n",
    "#                 break\n",
    "#     start_pt += 1\n",
    "\n",
    "# print(*list(map(int, sorted(perR))))"
   ]
  },
  {
   "cell_type": "code",
   "execution_count": null,
   "id": "9d141140",
   "metadata": {},
   "outputs": [],
   "source": []
  },
  {
   "cell_type": "markdown",
   "id": "dd455990",
   "metadata": {},
   "source": [
    "# ex09 (시뮬레이션)"
   ]
  },
  {
   "cell_type": "code",
   "execution_count": 49,
   "id": "02fc6783",
   "metadata": {},
   "outputs": [
    {
     "name": "stdout",
     "output_type": "stream",
     "text": [
      "10 12 14 16\n",
      "26\n"
     ]
    }
   ],
   "source": [
    "height = list(map(int, input().split()))\n",
    "\n",
    "def build(i, j, cnt):\n",
    "    if i == j:\n",
    "        global Max\n",
    "        Max = max(Max, i)\n",
    "    if cnt == len(height):\n",
    "        return\n",
    "    build(i + height[cnt], j, cnt+1)\n",
    "    build(i, j + height[cnt], cnt+1)\n",
    "    build(i, j, cnt+1)\n",
    "\n",
    "Max = 0\n",
    "build(0,0,0)\n",
    "\n",
    "if Max == 0:\n",
    "    print('재료가 부족합니다')\n",
    "else:\n",
    "    print(Max)"
   ]
  },
  {
   "cell_type": "code",
   "execution_count": null,
   "id": "14ea84cc",
   "metadata": {},
   "outputs": [],
   "source": []
  },
  {
   "cell_type": "markdown",
   "id": "30e8a1cd",
   "metadata": {},
   "source": [
    "# ex10 (최대 유량, DFS)"
   ]
  },
  {
   "cell_type": "code",
   "execution_count": null,
   "id": "0a090a1e",
   "metadata": {},
   "outputs": [],
   "source": [
    "#include <bits/stdc++.h>\n",
    "\n",
    "using namespace std;\n",
    "\n",
    "const int MAX = 60;\n",
    "\n",
    "const int NODE_MAX = 3001;\n",
    "const int INF = 1e9;\n",
    "int n, m , sum, res;\n",
    "pair<int,int> arr[MAX][MAX]; // node_num, val \n",
    "\n",
    "int c[NODE_MAX][NODE_MAX], f[NODE_MAX][NODE_MAX], d[NODE_MAX];\n",
    "int dx[4] = { 1,0,-1,0 };\n",
    "int dy[4] = { 0,1,0,-1 };\n",
    "vector<int> adj[NODE_MAX];\n",
    "\n",
    "\n",
    "void maxFlow(int start, int end) {\n",
    "    while (1) {\n",
    "        memset(d, -1, sizeof(d));\n",
    "        queue<int> Q;\n",
    "        Q.push(start);\n",
    "\n",
    "        while (!Q.empty() && d[end] == -1) {\n",
    "            int x = Q.front(); Q.pop();\n",
    "\n",
    "            for (auto nx : adj[x]) {\n",
    "                if (d[nx] == -1 && c[x][nx] - f[x][nx] > 0) {\n",
    "                    Q.push(nx);\n",
    "                    d[nx] = x;\n",
    "                    if (nx == end) break;\n",
    "                }\n",
    "            }\n",
    "        }\n",
    "\n",
    "        if (d[end] == -1) break;\n",
    "        int flow = INT_MAX;\n",
    "        for (int i = end; i != start; i = d[i]) {\n",
    "            flow = min(flow, c[d[i]][i] - f[d[i]][i]);\n",
    "        }\n",
    "\n",
    "        for (int i = end; i != start; i = d[i]) {\n",
    "            f[d[i]][i] += flow;\n",
    "            f[i][d[i]] -= flow;\n",
    "        }\n",
    "\n",
    "        res += flow;\n",
    "    }\n",
    "}\n",
    "\n",
    "int main() {\n",
    "    ios::sync_with_stdio(0);\n",
    "    cin.tie(0);\n",
    "\n",
    "\n",
    "    for (int T = 0; T < 1; T++) {\n",
    "        memset(c, 0, sizeof(c));\n",
    "        memset(f, 0, sizeof(f));\n",
    "        \n",
    "        sum = 0, res = 0;\n",
    "        for (int i = 0; i < NODE_MAX; i++) adj[i].clear();\n",
    "\n",
    "        cin >> n >> m;\n",
    "\n",
    "        int Node_num = 1;\n",
    "        for (int i = 1; i <= n; i++) {\n",
    "            for (int j = 1; j <= m; j++) {\n",
    "                int tmp;\n",
    "                cin >> tmp;\n",
    "                sum += tmp;\n",
    "\n",
    "                arr[i][j].first = Node_num;\n",
    "                arr[i][j].second = tmp;\n",
    "\n",
    "                if ((i + j) % 2 == 0) {\n",
    "                    adj[0].push_back(Node_num);\n",
    "                    adj[Node_num].push_back(0);\n",
    "                    c[0][Node_num] = tmp;\n",
    "                }\n",
    "                else {\n",
    "                    adj[3000].push_back(Node_num);\n",
    "                    adj[Node_num].push_back(3000);\n",
    "                    c[Node_num][3000] = tmp;\n",
    "                }\n",
    "\n",
    "                Node_num++;\n",
    "            }\n",
    "        }\n",
    "\n",
    "        for (int i = 1; i <= n; i++) {\n",
    "            for (int j = 1; j <= m; j++) {\n",
    "\n",
    "                if ((i + j) % 2 == 0) {\n",
    "\t\t\t\t\tint now = arr[i][j].first;\n",
    "\n",
    "\t\t\t\t\tfor (int k = 0; k < 4; k++) {\n",
    "\n",
    "\t\t\t\t\t\tint nx = i + dx[k];\n",
    "\t\t\t\t\t\tint ny = j + dy[k];\n",
    "\n",
    "\t\t\t\t\t\tif (nx <= 0 || nx > n || ny <= 0 || ny > m) continue;\n",
    "\n",
    "\t\t\t\t\t\tint next_node = arr[nx][ny].first;\n",
    "\n",
    "\t\t\t\t\t\tadj[now].push_back(next_node);\n",
    "\t\t\t\t\t\tadj[next_node].push_back(now);\n",
    "\t\t\t\t\t\tc[now][next_node] = INF;\n",
    "\t\t\t\t\t}\n",
    "                }\n",
    "\n",
    "            }\n",
    "        }\n",
    "\n",
    "\n",
    "        maxFlow(0, 3000);\n",
    "\n",
    "        cout << sum - res << '\\n';\n",
    "    }\n",
    "\n",
    "\n",
    "\n",
    "    return 0;\n",
    "}"
   ]
  },
  {
   "cell_type": "code",
   "execution_count": null,
   "id": "ba337c22",
   "metadata": {},
   "outputs": [],
   "source": []
  },
  {
   "cell_type": "code",
   "execution_count": null,
   "id": "27901c80",
   "metadata": {},
   "outputs": [],
   "source": []
  },
  {
   "cell_type": "code",
   "execution_count": null,
   "id": "e16b5963",
   "metadata": {},
   "outputs": [],
   "source": []
  }
 ],
 "metadata": {
  "kernelspec": {
   "display_name": "Python 3 (ipykernel)",
   "language": "python",
   "name": "python3"
  },
  "language_info": {
   "codemirror_mode": {
    "name": "ipython",
    "version": 3
   },
   "file_extension": ".py",
   "mimetype": "text/x-python",
   "name": "python",
   "nbconvert_exporter": "python",
   "pygments_lexer": "ipython3",
   "version": "3.9.12"
  }
 },
 "nbformat": 4,
 "nbformat_minor": 5
}
